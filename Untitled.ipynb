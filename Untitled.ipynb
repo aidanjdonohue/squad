{
 "cells": [
  {
   "cell_type": "code",
   "execution_count": 1,
   "id": "incident-maximum",
   "metadata": {},
   "outputs": [],
   "source": [
    "import torch\n",
    "import torch.nn as nn\n",
    "import torch.nn.functional as F\n",
    "import torch.utils.data as data\n",
    "import util\n"
   ]
  },
  {
   "cell_type": "code",
   "execution_count": 7,
   "id": "widespread-current",
   "metadata": {},
   "outputs": [],
   "source": [
    "from layers.embedding import CharEmbedding, WordEmbedding\n"
   ]
  },
  {
   "cell_type": "code",
   "execution_count": 8,
   "id": "ideal-accountability",
   "metadata": {},
   "outputs": [],
   "source": [
    "word_vectors = util.torch_from_json('./data/word_emb.json')\n",
    "char_vectors = util.torch_from_json('./data/char_emb.json')\n"
   ]
  },
  {
   "cell_type": "code",
   "execution_count": 9,
   "id": "accessory-polls",
   "metadata": {},
   "outputs": [],
   "source": [
    "\n",
    "\n",
    "char_embedder = CharEmbedding(char_vectors)\n",
    "\n",
    "\n",
    "\n"
   ]
  },
  {
   "cell_type": "code",
   "execution_count": 10,
   "id": "declared-block",
   "metadata": {},
   "outputs": [
    {
     "data": {
      "text/plain": [
       "CharEmbedding(\n",
       "  (embedding): Embedding(1376, 64)\n",
       "  (conv): ModuleList(\n",
       "    (0): Conv2d(1, 100, kernel_size=(1, 5), stride=(1, 1))\n",
       "  )\n",
       "  (dropout): Dropout(p=0.2)\n",
       ")"
      ]
     },
     "execution_count": 10,
     "metadata": {},
     "output_type": "execute_result"
    }
   ],
   "source": [
    "char_embedder"
   ]
  },
  {
   "cell_type": "code",
   "execution_count": null,
   "id": "alive-complaint",
   "metadata": {},
   "outputs": [
    {
     "name": "stdout",
     "output_type": "stream",
     "text": [
      "[03.10.21 20:18:39] Args: {\n",
      "    \"batch_size\": 64,\n",
      "    \"char_emb_file\": \"./data/char_emb.json\",\n",
      "    \"dev_eval_file\": \"./data/dev_eval.json\",\n",
      "    \"dev_record_file\": \"./data/dev.npz\",\n",
      "    \"drop_prob\": 0.2,\n",
      "    \"ema_decay\": 0.999,\n",
      "    \"eval_steps\": 50000,\n",
      "    \"gpu_ids\": [],\n",
      "    \"hidden_size\": 100,\n",
      "    \"l2_wd\": 0,\n",
      "    \"load_path\": null,\n",
      "    \"lr\": 0.5,\n",
      "    \"max_ans_len\": 15,\n",
      "    \"max_checkpoints\": 5,\n",
      "    \"max_grad_norm\": 5.0,\n",
      "    \"maximize_metric\": true,\n",
      "    \"metric_name\": \"F1\",\n",
      "    \"model\": \"BiDAF\",\n",
      "    \"name\": \"local\",\n",
      "    \"num_epochs\": 30,\n",
      "    \"num_visuals\": 10,\n",
      "    \"num_workers\": 4,\n",
      "    \"save_dir\": \"./save/train/local-02\",\n",
      "    \"seed\": 224,\n",
      "    \"test_eval_file\": \"./data/test_eval.json\",\n",
      "    \"test_record_file\": \"./data/test.npz\",\n",
      "    \"train_eval_file\": \"./data/train_eval.json\",\n",
      "    \"train_record_file\": \"./data/train.npz\",\n",
      "    \"use_squad_v2\": true,\n",
      "    \"word_emb_file\": \"./data/word_emb.json\"\n",
      "}\n",
      "[03.10.21 20:18:39] Using random seed 224...\n",
      "[03.10.21 20:18:39] Loading embeddings...\n",
      "./data/word_emb.json\n",
      "[03.10.21 20:18:45] Building model...\n",
      "[03.10.21 20:18:45] Saver will maximize F1...\n",
      "[03.10.21 20:18:45] Building dataset...\n",
      "[03.10.21 20:19:25] Training...\n",
      "[03.10.21 20:19:25] Starting epoch 1...\n",
      "  1%|▏              | 1216/129941 [06:04<11:26:17,  3.13it/s, NLL=8.49, epoch=1]"
     ]
    }
   ],
   "source": [
    "!python train.py -n local"
   ]
  },
  {
   "cell_type": "code",
   "execution_count": null,
   "id": "prime-recognition",
   "metadata": {},
   "outputs": [],
   "source": []
  }
 ],
 "metadata": {
  "kernelspec": {
   "display_name": "Python 3",
   "language": "python",
   "name": "python3"
  },
  "language_info": {
   "codemirror_mode": {
    "name": "ipython",
    "version": 3
   },
   "file_extension": ".py",
   "mimetype": "text/x-python",
   "name": "python",
   "nbconvert_exporter": "python",
   "pygments_lexer": "ipython3",
   "version": "3.6.13"
  }
 },
 "nbformat": 4,
 "nbformat_minor": 5
}
