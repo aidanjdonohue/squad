{
 "cells": [
  {
   "cell_type": "code",
   "execution_count": 1,
   "id": "incident-maximum",
   "metadata": {},
   "outputs": [],
   "source": [
    "import torch\n",
    "import torch.nn as nn\n",
    "import torch.nn.functional as F\n",
    "import torch.utils.data as data\n",
    "import util\n"
   ]
  },
  {
   "cell_type": "code",
   "execution_count": 2,
   "id": "widespread-current",
   "metadata": {},
   "outputs": [],
   "source": [
    "from layers import CharEmbedding, WordEmbedding\n"
   ]
  },
  {
   "cell_type": "code",
   "execution_count": 3,
   "id": "ideal-accountability",
   "metadata": {},
   "outputs": [],
   "source": [
    "word_vectors = util.torch_from_json('./data/word_emb.json')\n",
    "char_vectors = util.torch_from_json('./data/char_emb.json')\n"
   ]
  },
  {
   "cell_type": "code",
   "execution_count": 5,
   "id": "accessory-polls",
   "metadata": {},
   "outputs": [],
   "source": [
    "\n",
    "\n",
    "char_embedder = CharEmbedding(char_vectors)\n",
    "\n",
    "\n",
    "\n"
   ]
  },
  {
   "cell_type": "code",
   "execution_count": 8,
   "id": "declared-block",
   "metadata": {},
   "outputs": [
    {
     "data": {
      "text/plain": [
       "CharEmbedding(\n",
       "  (embedding): Embedding(1376, 64)\n",
       "  (conv): ModuleList(\n",
       "    (0): Conv2d(1, 100, kernel_size=(1, 5), stride=(1, 1))\n",
       "  )\n",
       "  (dropout): Dropout(p=0.2)\n",
       ")"
      ]
     },
     "execution_count": 8,
     "metadata": {},
     "output_type": "execute_result"
    }
   ],
   "source": [
    "char_embedder"
   ]
  },
  {
   "cell_type": "code",
   "execution_count": null,
   "id": "alive-complaint",
   "metadata": {},
   "outputs": [],
   "source": []
  }
 ],
 "metadata": {
  "kernelspec": {
   "display_name": "Python 3",
   "language": "python",
   "name": "python3"
  },
  "language_info": {
   "codemirror_mode": {
    "name": "ipython",
    "version": 3
   },
   "file_extension": ".py",
   "mimetype": "text/x-python",
   "name": "python",
   "nbconvert_exporter": "python",
   "pygments_lexer": "ipython3",
   "version": "3.6.13"
  }
 },
 "nbformat": 4,
 "nbformat_minor": 5
}
